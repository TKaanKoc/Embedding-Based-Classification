{
 "cells": [
  {
   "cell_type": "markdown",
   "metadata": {},
   "source": [
    "### Generate Embeddings"
   ]
  },
  {
   "cell_type": "code",
   "execution_count": 1,
   "metadata": {},
   "outputs": [
    {
     "name": "stdout",
     "output_type": "stream",
     "text": [
      "Collecting numpy<2,>=1.22.4 (from pandas)\n",
      "  Using cached numpy-1.26.2-cp39-cp39-macosx_10_9_x86_64.whl.metadata (61 kB)\n",
      "Requirement already satisfied: python-dateutil>=2.8.2 in ./v-env/lib/python3.9/site-packages (from pandas) (2.8.2)\n",
      "Collecting pytz>=2020.1 (from pandas)\n",
      "  Using cached pytz-2023.3.post1-py2.py3-none-any.whl.metadata (22 kB)\n",
      "Collecting tzdata>=2022.1 (from pandas)\n",
      "  Using cached tzdata-2023.3-py2.py3-none-any.whl (341 kB)\n",
      "Collecting anyio<4,>=3.5.0 (from openai)\n",
      "  Using cached anyio-3.7.1-py3-none-any.whl.metadata (4.7 kB)\n",
      "Collecting distro<2,>=1.7.0 (from openai)\n",
      "  Using cached distro-1.8.0-py3-none-any.whl (20 kB)\n",
      "Collecting httpx<1,>=0.23.0 (from openai)\n",
      "  Using cached httpx-0.25.2-py3-none-any.whl.metadata (6.9 kB)\n",
      "Collecting pydantic<3,>=1.9.0 (from openai)\n",
      "  Using cached pydantic-2.5.2-py3-none-any.whl.metadata (65 kB)\n",
      "Collecting tqdm>4 (from openai)\n",
      "  Using cached tqdm-4.66.1-py3-none-any.whl.metadata (57 kB)\n",
      "Requirement already satisfied: typing-extensions<5,>=4.5 in ./v-env/lib/python3.9/site-packages (from openai) (4.8.0)\n",
      "Collecting idna>=2.8 (from anyio<4,>=3.5.0->openai)\n",
      "  Using cached idna-3.6-py3-none-any.whl.metadata (9.9 kB)\n",
      "Collecting sniffio>=1.1 (from anyio<4,>=3.5.0->openai)\n",
      "  Using cached sniffio-1.3.0-py3-none-any.whl (10 kB)\n",
      "Requirement already satisfied: exceptiongroup in ./v-env/lib/python3.9/site-packages (from anyio<4,>=3.5.0->openai) (1.2.0)\n",
      "Collecting certifi (from httpx<1,>=0.23.0->openai)\n",
      "  Using cached certifi-2023.11.17-py3-none-any.whl.metadata (2.2 kB)\n",
      "Collecting httpcore==1.* (from httpx<1,>=0.23.0->openai)\n",
      "  Using cached httpcore-1.0.2-py3-none-any.whl.metadata (20 kB)\n",
      "Collecting h11<0.15,>=0.13 (from httpcore==1.*->httpx<1,>=0.23.0->openai)\n",
      "  Using cached h11-0.14.0-py3-none-any.whl (58 kB)\n",
      "Collecting annotated-types>=0.4.0 (from pydantic<3,>=1.9.0->openai)\n",
      "  Using cached annotated_types-0.6.0-py3-none-any.whl.metadata (12 kB)\n",
      "Collecting pydantic-core==2.14.5 (from pydantic<3,>=1.9.0->openai)\n",
      "  Using cached pydantic_core-2.14.5-cp39-cp39-macosx_10_7_x86_64.whl.metadata (6.5 kB)\n",
      "Requirement already satisfied: six>=1.5 in ./v-env/lib/python3.9/site-packages (from python-dateutil>=2.8.2->pandas) (1.16.0)\n",
      "Using cached pandas-2.1.3-cp39-cp39-macosx_10_9_x86_64.whl (11.8 MB)\n",
      "Using cached openai-1.3.5-py3-none-any.whl (220 kB)\n",
      "Using cached anyio-3.7.1-py3-none-any.whl (80 kB)\n",
      "Using cached httpx-0.25.2-py3-none-any.whl (74 kB)\n",
      "Using cached httpcore-1.0.2-py3-none-any.whl (76 kB)\n",
      "Using cached numpy-1.26.2-cp39-cp39-macosx_10_9_x86_64.whl (20.6 MB)\n",
      "Using cached pydantic-2.5.2-py3-none-any.whl (381 kB)\n",
      "Using cached pydantic_core-2.14.5-cp39-cp39-macosx_10_7_x86_64.whl (1.9 MB)\n",
      "Using cached pytz-2023.3.post1-py2.py3-none-any.whl (502 kB)\n",
      "Using cached tqdm-4.66.1-py3-none-any.whl (78 kB)\n",
      "Using cached annotated_types-0.6.0-py3-none-any.whl (12 kB)\n",
      "Using cached idna-3.6-py3-none-any.whl (61 kB)\n",
      "Using cached certifi-2023.11.17-py3-none-any.whl (162 kB)\n",
      "Installing collected packages: pytz, tzdata, tqdm, sniffio, python-dotenv, pydantic-core, numpy, idna, h11, distro, certifi, annotated-types, pydantic, pandas, httpcore, anyio, httpx, openai\n",
      "Successfully installed annotated-types-0.6.0 anyio-3.7.1 certifi-2023.11.17 distro-1.8.0 h11-0.14.0 httpcore-1.0.2 httpx-0.25.2 idna-3.6 numpy-1.26.2 openai-1.3.5 pandas-2.1.3 pydantic-2.5.2 pydantic-core-2.14.5 python-dotenv-1.0.0 pytz-2023.3.post1 sniffio-1.3.0 tqdm-4.66.1 tzdata-2023.3\n"
     ]
    }
   ],
   "source": [
    "!pip install pandas openai python-dotenv"
   ]
  },
  {
   "cell_type": "code",
   "execution_count": 14,
   "metadata": {},
   "outputs": [],
   "source": [
    "import pandas as pd\n",
    "\n",
    "df = pd.read_csv(\"data/tr_reviews.csv\")"
   ]
  },
  {
   "cell_type": "code",
   "execution_count": 3,
   "metadata": {},
   "outputs": [
    {
     "data": {
      "text/plain": [
       "Sentiment\n",
       "positive    75.717213\n",
       "negative    24.282787\n",
       "Name: count, dtype: float64"
      ]
     },
     "execution_count": 3,
     "metadata": {},
     "output_type": "execute_result"
    }
   ],
   "source": [
    "df.Sentiment.value_counts() * 100 / len(df)"
   ]
  },
  {
   "cell_type": "code",
   "execution_count": 6,
   "metadata": {},
   "outputs": [],
   "source": [
    "from openai import AzureOpenAI\n",
    "from dotenv import load_dotenv\n",
    "import os\n",
    "\n",
    "load_dotenv() \n",
    "\n",
    "API_KEY = os.getenv('AZURE_OPENAI_API_KEY')\n",
    "RESOURCE_ENDPOINT = os.getenv('AZURE_OPENAI_ENDPOINT')\n",
    "\n",
    "client = AzureOpenAI(\n",
    "  api_key=API_KEY,\n",
    "  api_version=\"2023-05-15\",\n",
    "  azure_endpoint=RESOURCE_ENDPOINT\n",
    ")"
   ]
  },
  {
   "cell_type": "code",
   "execution_count": 7,
   "metadata": {},
   "outputs": [],
   "source": [
    "# Configuration variables\n",
    "embedding_model = \"text-embedding-ada-002\"\n",
    "embedding_encoding = \"cl100k_base\"\n",
    "max_tokens = 8000\n",
    "top_n = 1000"
   ]
  },
  {
   "cell_type": "code",
   "execution_count": 10,
   "metadata": {},
   "outputs": [],
   "source": [
    "import time\n",
    "\n",
    "def generate_embeddings(text, model):\n",
    "    if not hasattr(generate_embeddings, \"counter\"):\n",
    "        generate_embeddings.counter = 0  \n",
    "        generate_embeddings.start_time = time.time()\n",
    "\n",
    "    generate_embeddings.counter += 1\n",
    "\n",
    "    if generate_embeddings.counter % 100 == 0:\n",
    "        elapsed_time = time.time() - generate_embeddings.start_time\n",
    "        texts_left = len(df[\"Review\"]) - generate_embeddings.counter\n",
    "        estimated_time_left = (elapsed_time / generate_embeddings.counter) * texts_left\n",
    "        print(f\"Generated embeddings for {generate_embeddings.counter} texts. \"\n",
    "              f\"Approximately {estimated_time_left:.2f} seconds remaining for {texts_left} texts.\")\n",
    "\n",
    "    embedding = client.embeddings.create(input=[text], model=model).data[0].embedding\n",
    "    return embedding"
   ]
  },
  {
   "cell_type": "code",
   "execution_count": 11,
   "metadata": {},
   "outputs": [
    {
     "name": "stdout",
     "output_type": "stream",
     "text": [
      "Generated embeddings for 100 texts. Approximately 156.66 seconds remaining for 876 texts.\n",
      "Generated embeddings for 200 texts. Approximately 137.60 seconds remaining for 776 texts.\n",
      "Generated embeddings for 300 texts. Approximately 117.97 seconds remaining for 676 texts.\n",
      "Generated embeddings for 400 texts. Approximately 100.76 seconds remaining for 576 texts.\n",
      "Generated embeddings for 500 texts. Approximately 81.20 seconds remaining for 476 texts.\n",
      "Generated embeddings for 600 texts. Approximately 64.25 seconds remaining for 376 texts.\n",
      "Generated embeddings for 700 texts. Approximately 46.94 seconds remaining for 276 texts.\n",
      "Generated embeddings for 800 texts. Approximately 29.92 seconds remaining for 176 texts.\n",
      "Generated embeddings for 900 texts. Approximately 12.79 seconds remaining for 76 texts.\n",
      "Completed generating embeddings for 976 texts in 170.77 seconds.\n"
     ]
    }
   ],
   "source": [
    "df['ada_v2'] = df[\"Review\"].apply(lambda x: generate_embeddings(x, model=embedding_model))\n",
    "total_time = time.time() - generate_embeddings.start_time\n",
    "print(f\"Completed generating embeddings for {generate_embeddings.counter} texts in {total_time:.2f} seconds.\")"
   ]
  },
  {
   "cell_type": "code",
   "execution_count": 13,
   "metadata": {},
   "outputs": [],
   "source": [
    "df.to_csv(\"data/tr_reviews_with_embeddings.csv\", index=False)"
   ]
  }
 ],
 "metadata": {
  "kernelspec": {
   "display_name": "venv",
   "language": "python",
   "name": "python3"
  },
  "language_info": {
   "codemirror_mode": {
    "name": "ipython",
    "version": 3
   },
   "file_extension": ".py",
   "mimetype": "text/x-python",
   "name": "python",
   "nbconvert_exporter": "python",
   "pygments_lexer": "ipython3",
   "version": "3.9.6"
  }
 },
 "nbformat": 4,
 "nbformat_minor": 2
}
